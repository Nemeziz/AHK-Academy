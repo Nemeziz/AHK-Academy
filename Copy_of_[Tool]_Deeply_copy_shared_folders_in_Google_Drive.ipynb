{
  "nbformat": 4,
  "nbformat_minor": 0,
  "metadata": {
    "colab": {
      "name": "Copy of [Tool] Deeply copy shared folders in Google Drive",
      "provenance": [],
      "collapsed_sections": [],
      "include_colab_link": true
    },
    "kernelspec": {
      "name": "python3",
      "display_name": "Python 3"
    },
    "language_info": {
      "name": "python"
    }
  },
  "cells": [
    {
      "cell_type": "markdown",
      "metadata": {
        "id": "view-in-github",
        "colab_type": "text"
      },
      "source": [
        "<a href=\"https://colab.research.google.com/github/Nemeziz/AHK-Academy/blob/master/Copy_of_%5BTool%5D_Deeply_copy_shared_folders_in_Google_Drive.ipynb\" target=\"_parent\"><img src=\"https://colab.research.google.com/assets/colab-badge.svg\" alt=\"Open In Colab\"/></a>"
      ]
    },
    {
      "cell_type": "code",
      "metadata": {
        "id": "7vfY17MS4nsX",
        "cellView": "form",
        "colab": {
          "base_uri": "https://localhost:8080/"
        },
        "outputId": "9fc03d33-69a5-4e5e-b901-cbf7c8e19c75"
      },
      "source": [
        "#@title Deeply copy shared folders in Google Drive\n",
        "from google.colab import drive\n",
        "import os\n",
        "\n",
        "print('Mounting Google Drive...')\n",
        "drive.mount('/gdrive')\n",
        "\n",
        "src_path = '/gdrive/MyDrive/20FFK_DEB1_GGL' #@param {type: 'string'}\n",
        "assert os.path.exists(src_path), f\"Source '{src_path}' doesn't exist!\"\n",
        "\n",
        "target_path = '/gdrive/MyDrive/Language/German' #@param {type: 'string'}\n",
        "os.makedirs(target_path, exist_ok=True)\n",
        "assert os.path.exists(target_path), f\"Target '{target_path}' doesn't exist!\"\n",
        "\n",
        "target_path = os.path.join(target_path, os.path.basename(src_path))\n",
        "print(f'Copying from \"{src_path}\" to \"{target_path}\"...')\n",
        "os.makedirs(target_path, exist_ok=True)\n",
        "!cp -rf \"$src_path\"/* \"$target_path\"  # also work when source is a shortcut\n"
      ],
      "execution_count": null,
      "outputs": [
        {
          "output_type": "stream",
          "text": [
            "Mounting Google Drive...\n",
            "Mounted at /gdrive\n",
            "Copying from \"/gdrive/MyDrive/20FFK_DEB1_GGL\" to \"/gdrive/MyDrive/Language/German/20FFK_DEB1_GGL\"...\n",
            "cp: cannot open '/gdrive/MyDrive/20FFK_DEB1_GGL/Hausaufgaben/Duokai/2020.06.18 KB S.14 B3.gdoc' for reading: Operation not supported\n",
            "cp: cannot open '/gdrive/MyDrive/20FFK_DEB1_GGL/Hausaufgaben/Duokai/2020.06.05 AB S.11 #4.gdoc' for reading: Operation not supported\n",
            "cp: cannot open '/gdrive/MyDrive/20FFK_DEB1_GGL/Hausaufgaben/Duokai/2020.05.19.gdoc' for reading: Operation not supported\n",
            "cp: cannot open '/gdrive/MyDrive/20FFK_DEB1_GGL/Hausaufgaben/Duokai/2020.06.11 KB S.13 A4, AB S.12.gdoc' for reading: Operation not supported\n",
            "cp: cannot open '/gdrive/MyDrive/20FFK_DEB1_GGL/Hausaufgaben/Duokai/2020.07.08.gdoc' for reading: Operation not supported\n",
            "cp: cannot open '/gdrive/MyDrive/20FFK_DEB1_GGL/Hausaufgaben/Duokai/2020.06.18.gdoc' for reading: Operation not supported\n",
            "cp: cannot open '/gdrive/MyDrive/20FFK_DEB1_GGL/Hausaufgaben/Duokai/2020.07.22.gdoc' for reading: Operation not supported\n",
            "cp: cannot open '/gdrive/MyDrive/20FFK_DEB1_GGL/Hausaufgaben/Duokai/2020.07.15.gdoc' for reading: Operation not supported\n",
            "cp: cannot open '/gdrive/MyDrive/20FFK_DEB1_GGL/Hausaufgaben/Duokai/2020.08.12.gdoc' for reading: Operation not supported\n",
            "cp: cannot open '/gdrive/MyDrive/20FFK_DEB1_GGL/Hausaufgaben/Duokai/2020.09.02.gdoc' for reading: Operation not supported\n",
            "cp: cannot open '/gdrive/MyDrive/20FFK_DEB1_GGL/Hausaufgaben/Duokai/2020.10.14.gdoc' for reading: Operation not supported\n",
            "cp: cannot open '/gdrive/MyDrive/20FFK_DEB1_GGL/Hausaufgaben/Duokai/2020.10.21.gdoc' for reading: Operation not supported\n",
            "cp: cannot open '/gdrive/MyDrive/20FFK_DEB1_GGL/Hausaufgaben/Duokai/2020.10.07.gdoc' for reading: Operation not supported\n",
            "cp: cannot open '/gdrive/MyDrive/20FFK_DEB1_GGL/Hausaufgaben/Duokai/2020.10.22.gdoc' for reading: Operation not supported\n",
            "cp: cannot open '/gdrive/MyDrive/20FFK_DEB1_GGL/Hausaufgaben/Duokai/2020.11.18.gdoc' for reading: Operation not supported\n",
            "cp: cannot open '/gdrive/MyDrive/20FFK_DEB1_GGL/Hausaufgaben/Duokai/2020.12.03.gdoc' for reading: Operation not supported\n",
            "cp: cannot open '/gdrive/MyDrive/20FFK_DEB1_GGL/Hausaufgaben/Duokai/2021.01.27.gdoc' for reading: Operation not supported\n",
            "cp: cannot open '/gdrive/MyDrive/20FFK_DEB1_GGL/Hausaufgaben/Duokai/2021.02.03.gdoc' for reading: Operation not supported\n",
            "cp: cannot open '/gdrive/MyDrive/20FFK_DEB1_GGL/Hausaufgaben/Duokai/2021.02.17.gdoc' for reading: Operation not supported\n",
            "cp: cannot open '/gdrive/MyDrive/20FFK_DEB1_GGL/Hausaufgaben/Duokai/2021.02.15.gdoc' for reading: Operation not supported\n",
            "cp: cannot open '/gdrive/MyDrive/20FFK_DEB1_GGL/Hausaufgaben/Duokai/2021.02.22.gdoc' for reading: Operation not supported\n",
            "cp: cannot open '/gdrive/MyDrive/20FFK_DEB1_GGL/Hausaufgaben/Duokai/2021.03.03.gdoc' for reading: Operation not supported\n",
            "cp: cannot open '/gdrive/MyDrive/20FFK_DEB1_GGL/Hausaufgaben/Duokai/2021.03.08.gdoc' for reading: Operation not supported\n",
            "cp: cannot open '/gdrive/MyDrive/20FFK_DEB1_GGL/Hausaufgaben/Duokai/2021.3.25 Schriftlicher Ausdruck Cornelsen S. 49.gdoc' for reading: Operation not supported\n",
            "cp: cannot open '/gdrive/MyDrive/20FFK_DEB1_GGL/Hausaufgaben/Duokai/2021.03.25 Test L6.gdoc' for reading: Operation not supported\n",
            "cp: cannot open '/gdrive/MyDrive/20FFK_DEB1_GGL/Hausaufgaben/Duokai/2021.03.18.gdoc' for reading: Operation not supported\n",
            "cp: cannot open '/gdrive/MyDrive/20FFK_DEB1_GGL/Hausaufgaben/Duokai/2021.03.25 MA.gdoc' for reading: Operation not supported\n",
            "cp: cannot open '/gdrive/MyDrive/20FFK_DEB1_GGL/Hausaufgaben/Duokai/2021.04.06.gdoc' for reading: Operation not supported\n",
            "cp: cannot open '/gdrive/MyDrive/20FFK_DEB1_GGL/Hausaufgaben/Duokai/2021-04-08.gdoc' for reading: Operation not supported\n",
            "cp: cannot open '/gdrive/MyDrive/20FFK_DEB1_GGL/Hausaufgaben/Duokai/2021.04.15 AB S.82 .gdoc' for reading: Operation not supported\n",
            "cp: cannot open '/gdrive/MyDrive/20FFK_DEB1_GGL/Hausaufgaben/Duokai/2021.04.19 L7 Test2.gdoc' for reading: Operation not supported\n",
            "cp: cannot open '/gdrive/MyDrive/20FFK_DEB1_GGL/Hausaufgaben/Duokai/2021.04.22.gdoc' for reading: Operation not supported\n",
            "cp: cannot open '/gdrive/MyDrive/20FFK_DEB1_GGL/Hausaufgaben/Duokai/2021.05.04.gdoc' for reading: Operation not supported\n",
            "cp: cannot open '/gdrive/MyDrive/20FFK_DEB1_GGL/Hausaufgaben/Duokai/2021.05.06.gdoc' for reading: Operation not supported\n",
            "cp: cannot open '/gdrive/MyDrive/20FFK_DEB1_GGL/Hausaufgaben/Duokai/2021.05.20.gdoc' for reading: Operation not supported\n",
            "cp: cannot open '/gdrive/MyDrive/20FFK_DEB1_GGL/Hausaufgaben/Duokai/2021.06.22.gdoc' for reading: Operation not supported\n",
            "cp: cannot open '/gdrive/MyDrive/20FFK_DEB1_GGL/Hausaufgaben/Duokai/2021.06.29 Grammatik 10.13.gdoc' for reading: Operation not supported\n",
            "cp: cannot open '/gdrive/MyDrive/20FFK_DEB1_GGL/Hausaufgaben/Duokai/2021.06.24 Test L9.gdoc' for reading: Operation not supported\n",
            "cp: cannot open '/gdrive/MyDrive/20FFK_DEB1_GGL/Hausaufgaben/Zhuojie/2020.5.19.gdoc' for reading: Operation not supported\n",
            "cp: cannot open '/gdrive/MyDrive/20FFK_DEB1_GGL/Hausaufgaben/Zhuojie/2020.7.9.gdoc' for reading: Operation not supported\n",
            "cp: cannot open '/gdrive/MyDrive/20FFK_DEB1_GGL/Hausaufgaben/Zhuojie/2020.8.20.gdoc' for reading: Operation not supported\n",
            "cp: cannot open '/gdrive/MyDrive/20FFK_DEB1_GGL/Hausaufgaben/Zhuojie/2021.3.2.gdoc' for reading: Operation not supported\n",
            "cp: cannot open '/gdrive/MyDrive/20FFK_DEB1_GGL/Hausaufgaben/Zhuojie/2021.3.18 KB 77 E2 A.gdoc' for reading: Operation not supported\n",
            "cp: cannot open '/gdrive/MyDrive/20FFK_DEB1_GGL/Hausaufgaben/Zhuojie/2021.3.25 Cornelsen S. 49 SA 1 Warmup.gdoc' for reading: Operation not supported\n",
            "cp: cannot open '/gdrive/MyDrive/20FFK_DEB1_GGL/Hausaufgaben/Zhuojie/SA S. 133 Brief.gdoc' for reading: Operation not supported\n",
            "cp: cannot open '/gdrive/MyDrive/20FFK_DEB1_GGL/Hausaufgaben/Yin/2020.06.11 KB S.13 A4.gdoc' for reading: Operation not supported\n",
            "cp: cannot open '/gdrive/MyDrive/20FFK_DEB1_GGL/Hausaufgaben/Yin/2021.02.04.gdoc' for reading: Operation not supported\n",
            "cp: cannot open '/gdrive/MyDrive/20FFK_DEB1_GGL/Hausaufgaben/Yin/2021.03.03 Cornelsen S135.gdoc' for reading: Operation not supported\n",
            "cp: cannot open '/gdrive/MyDrive/20FFK_DEB1_GGL/Hausaufgaben/Yin/2021.03.23 Cornlesen S49.gdoc' for reading: Operation not supported\n",
            "cp: cannot open '/gdrive/MyDrive/20FFK_DEB1_GGL/Hausaufgaben/Yin/Cornelsen S133.gdoc' for reading: Operation not supported\n",
            "cp: cannot open '/gdrive/MyDrive/20FFK_DEB1_GGL/Hausaufgaben/Xiao/Cornelsen S.136 Modelltest 1 MA2.gdoc' for reading: Operation not supported\n",
            "cp: cannot open '/gdrive/MyDrive/20FFK_DEB1_GGL/Hausaufgaben/Xiao/KB S.77 E2.gdoc' for reading: Operation not supported\n",
            "cp: cannot open '/gdrive/MyDrive/20FFK_DEB1_GGL/Hausaufgaben/Xiao/Cornelsen S.133 Modelltest 1 SA.gdoc' for reading: Operation not supported\n",
            "cp: cannot open '/gdrive/MyDrive/20FFK_DEB1_GGL/Hausaufgaben/Xiao/KB S.95 28b Halbformelle E-Mail.gdoc' for reading: Operation not supported\n",
            "cp: cannot open '/gdrive/MyDrive/20FFK_DEB1_GGL/Hausaufgaben/Zhichun/2021.01.27.gdoc' for reading: Operation not supported\n",
            "cp: cannot open '/gdrive/MyDrive/20FFK_DEB1_GGL/Hausaufgaben/Zhichun/2020.01.07.gdoc' for reading: Operation not supported\n",
            "cp: cannot open '/gdrive/MyDrive/20FFK_DEB1_GGL/Hausaufgaben/Zhichun/2021.02.09_course.gdoc' for reading: Operation not supported\n",
            "cp: cannot open '/gdrive/MyDrive/20FFK_DEB1_GGL/Hausaufgaben/Zhichun/2021.02.09_homework.gdoc' for reading: Operation not supported\n",
            "cp: cannot open '/gdrive/MyDrive/20FFK_DEB1_GGL/Hausaufgaben/Zhichun/2021.03.23 Cornelsen S.49 SA 1.gdoc' for reading: Operation not supported\n",
            "cp: cannot open '/gdrive/MyDrive/20FFK_DEB1_GGL/Hausaufgaben/Zhichun/2021.04.08 Cornelsen S.133 Modeltest1 SA .gdoc' for reading: Operation not supported\n",
            "cp: cannot open '/gdrive/MyDrive/20FFK_DEB1_GGL/Hausaufgaben/Zhichun/2021.04.19 L7 Test2.gdoc' for reading: Operation not supported\n",
            "cp: cannot open '/gdrive/MyDrive/20FFK_DEB1_GGL/Hausaufgaben/Zhichun/2021.05.25 L8 Test 2.gdoc' for reading: Operation not supported\n",
            "cp: cannot open '/gdrive/MyDrive/20FFK_DEB1_GGL/Hausaufgaben/Zhichun/2021.05.20 Schreiben.gdoc' for reading: Operation not supported\n",
            "cp: cannot open '/gdrive/MyDrive/20FFK_DEB1_GGL/Hausaufgaben/Hausaufgaben.gslides' for reading: Operation not supported\n",
            "cp: cannot open '/gdrive/MyDrive/20FFK_DEB1_GGL/Tests/Muster Schreiben zur Lektion-Tests.gdoc' for reading: Operation not supported\n"
          ],
          "name": "stdout"
        }
      ]
    }
  ]
}